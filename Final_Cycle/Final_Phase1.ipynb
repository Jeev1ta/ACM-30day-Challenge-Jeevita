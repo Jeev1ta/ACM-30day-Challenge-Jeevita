{
  "nbformat": 4,
  "nbformat_minor": 0,
  "metadata": {
    "colab": {
      "provenance": []
    },
    "kernelspec": {
      "name": "python3",
      "display_name": "Python 3"
    },
    "language_info": {
      "name": "python"
    }
  },
  "cells": [
    {
      "cell_type": "code",
      "execution_count": 333,
      "metadata": {
        "id": "aXc_IYX3x8St"
      },
      "outputs": [],
      "source": [
        "import pandas as pd\n",
        "import numpy as np\n",
        "import torch"
      ]
    },
    {
      "cell_type": "code",
      "source": [
        "from sklearn.preprocessing import OrdinalEncoder, StandardScaler\n",
        "from sklearn.model_selection import train_test_split\n",
        "from sklearn.metrics import accuracy_score, confusion_matrix, classification_report\n",
        "import matplotlib.pyplot as plt"
      ],
      "metadata": {
        "id": "nzegrO0gyBJu"
      },
      "execution_count": 334,
      "outputs": []
    },
    {
      "cell_type": "code",
      "source": [
        "data = pd.read_csv(\"/content/workout_fitness_tracker_data.csv\")"
      ],
      "metadata": {
        "id": "3VcXRXOZyhVa"
      },
      "execution_count": 335,
      "outputs": []
    },
    {
      "cell_type": "code",
      "source": [
        "print(data.columns)\n",
        "print(data.head())"
      ],
      "metadata": {
        "colab": {
          "base_uri": "https://localhost:8080/"
        },
        "id": "DOHRZjgzyoY6",
        "outputId": "1c046a2f-daa0-4f67-f99e-334687e6b402"
      },
      "execution_count": 336,
      "outputs": [
        {
          "output_type": "stream",
          "name": "stdout",
          "text": [
            "Index(['User ID', 'Age', 'Gender', 'Height (cm)', 'Weight (kg)',\n",
            "       'Workout Type', 'Workout Duration (mins)', 'Calories Burned',\n",
            "       'Heart Rate (bpm)', 'Steps Taken', 'Distance (km)', 'Workout Intensity',\n",
            "       'Sleep Hours', 'Water Intake (liters)', 'Daily Calories Intake',\n",
            "       'Resting Heart Rate (bpm)', 'VO2 Max', 'Body Fat (%)',\n",
            "       'Mood Before Workout', 'Mood After Workout'],\n",
            "      dtype='object')\n",
            "   User ID  Age  Gender  Height (cm)  Weight (kg) Workout Type  \\\n",
            "0        1   39    Male          175           99      Cycling   \n",
            "1        2   36   Other          157          112       Cardio   \n",
            "2        3   25  Female          180           66         HIIT   \n",
            "3        4   56    Male          154           89      Cycling   \n",
            "4        5   53   Other          194           59     Strength   \n",
            "\n",
            "   Workout Duration (mins)  Calories Burned  Heart Rate (bpm)  Steps Taken  \\\n",
            "0                       79              384               112         8850   \n",
            "1                       73              612               168         2821   \n",
            "2                       27              540               133        18898   \n",
            "3                       39              672               118        14102   \n",
            "4                       56              410               170        16518   \n",
            "\n",
            "   Distance (km) Workout Intensity  Sleep Hours  Water Intake (liters)  \\\n",
            "0          14.44              High          8.2                    1.9   \n",
            "1           1.10              High          8.6                    1.9   \n",
            "2           7.28              High          9.8                    1.9   \n",
            "3           6.55            Medium          5.8                    1.9   \n",
            "4           3.17            Medium          7.3                    1.9   \n",
            "\n",
            "   Daily Calories Intake  Resting Heart Rate (bpm)  VO2 Max  Body Fat (%)  \\\n",
            "0                   3195                        61     38.4          28.5   \n",
            "1                   2541                        73     38.4          28.5   \n",
            "2                   3362                        80     38.4          28.5   \n",
            "3                   2071                        65     38.4          28.5   \n",
            "4                   3298                        59     38.4          28.5   \n",
            "\n",
            "  Mood Before Workout Mood After Workout  \n",
            "0               Tired           Fatigued  \n",
            "1               Happy          Energized  \n",
            "2               Happy           Fatigued  \n",
            "3             Neutral            Neutral  \n",
            "4            Stressed          Energized  \n"
          ]
        }
      ]
    },
    {
      "cell_type": "code",
      "source": [
        "def assign_dropout_status(record):\n",
        "    mood_start = record['Mood Before Workout']\n",
        "    mood_end = record['Mood After Workout']\n",
        "    workout_level = record['Workout Intensity']\n",
        "    time_spent = record['Workout Duration (mins)']\n",
        "\n",
        "    if (mood_start in ['Tired', 'Stressed', 'Neutral'] and\n",
        "        mood_end in ['Fatigued', 'Neutral'] and\n",
        "        workout_level == 'Low' and\n",
        "        time_spent < 30):\n",
        "        return 1\n",
        "    return 0"
      ],
      "metadata": {
        "id": "XWCmyaGryq-V"
      },
      "execution_count": 337,
      "outputs": []
    },
    {
      "cell_type": "code",
      "source": [
        "data['DropoutFlag'] = data.apply(assign_dropout_status, axis=1)\n",
        "print(data['DropoutFlag'].value_counts())"
      ],
      "metadata": {
        "colab": {
          "base_uri": "https://localhost:8080/"
        },
        "id": "qIOG7AjGzkjZ",
        "outputId": "0dd30f6f-de94-4f5a-c702-9f7c628ed4aa"
      },
      "execution_count": 338,
      "outputs": [
        {
          "output_type": "stream",
          "name": "stdout",
          "text": [
            "DropoutFlag\n",
            "0    9690\n",
            "1     310\n",
            "Name: count, dtype: int64\n"
          ]
        }
      ]
    },
    {
      "cell_type": "code",
      "source": [
        "cat_features = data.select_dtypes(include=['object']).columns\n",
        "cat_features = cat_features.drop(['Mood Before Workout', 'Mood After Workout'])\n",
        "print(\"Categorical variables:\", cat_features)\n",
        "\n",
        "encoder = OrdinalEncoder()\n",
        "data[cat_features] = encoder.fit_transform(data[cat_features])"
      ],
      "metadata": {
        "colab": {
          "base_uri": "https://localhost:8080/"
        },
        "id": "KbuYb_YHzmWT",
        "outputId": "eebce335-c308-4631-a51a-828382265d69"
      },
      "execution_count": 339,
      "outputs": [
        {
          "output_type": "stream",
          "name": "stdout",
          "text": [
            "Categorical variables: Index(['Gender', 'Workout Type', 'Workout Intensity'], dtype='object')\n"
          ]
        }
      ]
    },
    {
      "cell_type": "code",
      "source": [
        "scale = StandardScaler()\n",
        "num_features = data.drop(columns=['User ID', 'Mood Before Workout', 'Mood After Workout','Workout Intensity', 'DropoutFlag', 'Gender', 'Workout Type']).columns\n",
        "data[num_features] = scale.fit_transform(data[num_features])"
      ],
      "metadata": {
        "id": "05tMHPP4zwJV"
      },
      "execution_count": 340,
      "outputs": []
    },
    {
      "cell_type": "code",
      "source": [
        "X_vars = data.drop(columns=['User ID', 'DropoutFlag', 'Mood Before Workout', 'Mood After Workout'])\n",
        "y_var = data['DropoutFlag']\n",
        "\n",
        "X_train, X_test, y_train, y_test = train_test_split(X_vars, y_var, test_size=0.2, random_state=42, stratify=y_var)"
      ],
      "metadata": {
        "id": "l0WFVO_cz-R-"
      },
      "execution_count": 341,
      "outputs": []
    },
    {
      "cell_type": "code",
      "source": [
        "train_X_tensor = torch.tensor(X_train.values, dtype=torch.float32)\n",
        "train_y_tensor = torch.tensor(y_train.values, dtype=torch.float32).view(-1, 1)\n",
        "test_X_tensor = torch.tensor(X_test.values, dtype=torch.float32)\n",
        "test_y_tensor = torch.tensor(y_test.values, dtype=torch.float32).view(-1, 1)"
      ],
      "metadata": {
        "id": "XvRfJtPX0CZV"
      },
      "execution_count": 342,
      "outputs": []
    },
    {
      "cell_type": "code",
      "source": [
        "class WorkoutMLP(torch.nn.Module):\n",
        "    def __init__(self, input_dim):\n",
        "        super(WorkoutMLP, self).__init__()\n",
        "        self.hidden = torch.nn.Linear(input_dim, 64)\n",
        "        self.relu = torch.nn.ReLU()\n",
        "        self.output = torch.nn.Linear(64, 1)\n",
        "        self.sigmoid = torch.nn.Sigmoid()\n",
        "\n",
        "    def forward(self, inputs):\n",
        "        x = self.hidden(inputs)\n",
        "        x = self.relu(x)\n",
        "        x = self.output(x)\n",
        "        x = self.sigmoid(x)\n",
        "        return x"
      ],
      "metadata": {
        "id": "-TtdEhh10KF0"
      },
      "execution_count": 343,
      "outputs": []
    },
    {
      "cell_type": "code",
      "source": [
        "net = WorkoutMLP(X_train.shape[1])\n",
        "optimizer = torch.optim.Adam(net.parameters(), lr=0.001)\n",
        "loss_fn = torch.nn.BCELoss()"
      ],
      "metadata": {
        "id": "htA4itNS0OQG"
      },
      "execution_count": 344,
      "outputs": []
    },
    {
      "cell_type": "code",
      "source": [
        "loss_history = []\n",
        "epochs = 100\n",
        "\n",
        "for e in range(epochs):\n",
        "    net.train()\n",
        "    optimizer.zero_grad()\n",
        "    predictions = net(train_X_tensor)\n",
        "    loss = loss_fn(predictions, train_y_tensor)\n",
        "    loss.backward()\n",
        "    optimizer.step()\n",
        "    loss_history.append(loss.item())\n",
        "\n",
        "    if (e+1) % 10 == 0:\n",
        "        print(f\"Epoch {e+1} | Loss: {loss.item()}\")"
      ],
      "metadata": {
        "colab": {
          "base_uri": "https://localhost:8080/"
        },
        "id": "lBX_7zDd0QEz",
        "outputId": "c4f1c141-0bae-419f-f090-10d7ceaed069"
      },
      "execution_count": 345,
      "outputs": [
        {
          "output_type": "stream",
          "name": "stdout",
          "text": [
            "Epoch 10 | Loss: 0.5199589133262634\n",
            "Epoch 20 | Loss: 0.4239724278450012\n",
            "Epoch 30 | Loss: 0.34638115763664246\n",
            "Epoch 40 | Loss: 0.2848060727119446\n",
            "Epoch 50 | Loss: 0.23762556910514832\n",
            "Epoch 60 | Loss: 0.20304760336875916\n",
            "Epoch 70 | Loss: 0.17875395715236664\n",
            "Epoch 80 | Loss: 0.16219647228717804\n",
            "Epoch 90 | Loss: 0.1510574221611023\n",
            "Epoch 100 | Loss: 0.14348988234996796\n"
          ]
        }
      ]
    },
    {
      "cell_type": "code",
      "source": [
        "plt.plot(loss_history)\n",
        "plt.xlabel('Epoch')\n",
        "plt.ylabel('Loss')\n",
        "plt.title('MLP Training Loss')\n",
        "plt.show()"
      ],
      "metadata": {
        "colab": {
          "base_uri": "https://localhost:8080/",
          "height": 472
        },
        "id": "ux4BQeiX0Unb",
        "outputId": "c6d757e3-fe1e-4d0b-8b48-f7d5dc721de6"
      },
      "execution_count": 346,
      "outputs": [
        {
          "output_type": "display_data",
          "data": {
            "text/plain": [
              "<Figure size 640x480 with 1 Axes>"
            ],
            "image/png": "[encoded data removed]"
          },
          "metadata": {}
        }
      ]
    },
    {
      "cell_type": "code",
      "source": [
        "net.eval()\n",
        "with torch.no_grad():\n",
        "    test_preds = net(test_X_tensor)\n",
        "    final_preds = (test_preds > 0.5).float()"
      ],
      "metadata": {
        "id": "CX3kC2lO0X2x"
      },
      "execution_count": 347,
      "outputs": []
    },
    {
      "cell_type": "code",
      "source": [
        "print(f\"Accuracy: {accuracy_score(y_test, final_preds)}\")\n",
        "print(\"Confusion Matrix:\\n\", confusion_matrix(y_test, final_preds, labels=[0, 1]))\n",
        "print(classification_report(y_test, final_preds, labels=[0, 1], zero_division=0))"
      ],
      "metadata": {
        "colab": {
          "base_uri": "https://localhost:8080/"
        },
        "id": "2DQuR-9G0oQT",
        "outputId": "1824705a-d3ea-474a-8e00-0d4dbf1c05e7"
      },
      "execution_count": 348,
      "outputs": [
        {
          "output_type": "stream",
          "name": "stdout",
          "text": [
            "Accuracy: 0.969\n",
            "Confusion Matrix:\n",
            " [[1938    0]\n",
            " [  62    0]]\n",
            "              precision    recall  f1-score   support\n",
            "\n",
            "           0       0.97      1.00      0.98      1938\n",
            "           1       0.00      0.00      0.00        62\n",
            "\n",
            "    accuracy                           0.97      2000\n",
            "   macro avg       0.48      0.50      0.49      2000\n",
            "weighted avg       0.94      0.97      0.95      2000\n",
            "\n"
          ]
        }
      ]
    },
    {
      "cell_type": "code",
      "source": [],
      "metadata": {
        "id": "aXUwJiWd0p7_"
      },
      "execution_count": 348,
      "outputs": []
    }
  ]
}