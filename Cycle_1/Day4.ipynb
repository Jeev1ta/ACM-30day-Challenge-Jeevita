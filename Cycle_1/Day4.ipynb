{
  "nbformat": 4,
  "nbformat_minor": 0,
  "metadata": {
    "colab": {
      "provenance": []
    },
    "kernelspec": {
      "name": "python3",
      "display_name": "Python 3"
    },
    "language_info": {
      "name": "python"
    }
  },
  "cells": [
    {
      "cell_type": "code",
      "execution_count": 127,
      "metadata": {
        "id": "cz0fDSIDBI4-"
      },
      "outputs": [],
      "source": [
        "import pandas as pd"
      ]
    },
    {
      "cell_type": "code",
      "source": [
        "from sklearn.model_selection import train_test_split\n",
        "from sklearn.preprocessing import StandardScaler\n",
        "from sklearn.tree import DecisionTreeClassifier\n",
        "from sklearn.ensemble import RandomForestClassifier\n",
        "from sklearn.neighbors import KNeighborsClassifier\n",
        "from sklearn.metrics import accuracy_score"
      ],
      "metadata": {
        "id": "wMQh7A9JJjK0"
      },
      "execution_count": 128,
      "outputs": []
    },
    {
      "cell_type": "code",
      "source": [
        "df = pd.read_csv('/content/mental_health_workplace_survey.csv')"
      ],
      "metadata": {
        "id": "k4Mg0WHIJnqg"
      },
      "execution_count": 129,
      "outputs": []
    },
    {
      "cell_type": "code",
      "source": [
        "y = df['BurnoutRisk']\n",
        "X = df.drop(columns=['BurnoutRisk', 'BurnoutLevel'], errors='ignore')\n",
        "X = pd.get_dummies(X)"
      ],
      "metadata": {
        "id": "ShRh1vkZJzsd"
      },
      "execution_count": 130,
      "outputs": []
    },
    {
      "cell_type": "code",
      "source": [
        "scaler = StandardScaler()\n",
        "num_cols = X.select_dtypes(include=['int64', 'float64']).columns\n",
        "X[num_cols] = scaler.fit_transform(X[num_cols])"
      ],
      "metadata": {
        "id": "6XMQcH2NJ1n6"
      },
      "execution_count": 131,
      "outputs": []
    },
    {
      "cell_type": "code",
      "source": [
        "X_train, X_test, y_train, y_test = train_test_split(X, y, test_size=0.2, random_state=42)"
      ],
      "metadata": {
        "id": "PM4qrYJGJ4YG"
      },
      "execution_count": 132,
      "outputs": []
    },
    {
      "cell_type": "code",
      "source": [
        "dt = DecisionTreeClassifier(random_state=42)\n",
        "dt.fit(X_train, y_train)\n",
        "dt_acc = accuracy_score(y_test, dt.predict(X_test))\n",
        "print(f\"Decision Tree Accuracy (all features): {dt_acc:.2f}\")"
      ],
      "metadata": {
        "colab": {
          "base_uri": "https://localhost:8080/"
        },
        "id": "J_0PrsQQJ6vT",
        "outputId": "054a8b41-895d-4fde-ad36-d4b47e3249cc"
      },
      "execution_count": 133,
      "outputs": [
        {
          "output_type": "stream",
          "name": "stdout",
          "text": [
            "Decision Tree Accuracy (all features): 0.53\n"
          ]
        }
      ]
    },
    {
      "cell_type": "code",
      "source": [
        "rf = RandomForestClassifier(random_state=42)\n",
        "rf.fit(X_train, y_train)\n",
        "rf_acc = accuracy_score(y_test, rf.predict(X_test))\n",
        "print(f\"Random Forest Accuracy (all features): {rf_acc:.2f}\")"
      ],
      "metadata": {
        "colab": {
          "base_uri": "https://localhost:8080/"
        },
        "id": "wX-ExDA2KKvJ",
        "outputId": "d53ad7d4-a6ed-4018-8eb5-7795497f0fd0"
      },
      "execution_count": 134,
      "outputs": [
        {
          "output_type": "stream",
          "name": "stdout",
          "text": [
            "Random Forest Accuracy (all features): 0.67\n"
          ]
        }
      ]
    },
    {
      "cell_type": "code",
      "source": [
        "knn = KNeighborsClassifier()\n",
        "knn.fit(X_train, y_train)\n",
        "knn_acc = accuracy_score(y_test, knn.predict(X_test))\n",
        "print(f\"k-NN Accuracy (all features): {knn_acc:.2f}\")"
      ],
      "metadata": {
        "colab": {
          "base_uri": "https://localhost:8080/"
        },
        "id": "QGhYqKUMKeep",
        "outputId": "22ce2b00-abbc-43e3-d6fa-6439576af18c"
      },
      "execution_count": 135,
      "outputs": [
        {
          "output_type": "stream",
          "name": "stdout",
          "text": [
            "k-NN Accuracy (all features): 0.60\n"
          ]
        }
      ]
    },
    {
      "cell_type": "code",
      "source": [
        "importances = rf.feature_importances_\n",
        "feature_series = pd.Series(importances, index=X.columns)\n",
        "top3 = feature_series.sort_values(ascending=False).head(3).index.tolist()\n",
        "print(\"Top 3 important features:\", top3)"
      ],
      "metadata": {
        "colab": {
          "base_uri": "https://localhost:8080/"
        },
        "id": "PQv5DP99MYVs",
        "outputId": "ea7618a0-89ce-488b-acbf-8797ea27ac1b"
      },
      "execution_count": 136,
      "outputs": [
        {
          "output_type": "stream",
          "name": "stdout",
          "text": [
            "Top 3 important features: ['ProductivityScore', 'ManagerSupportScore', 'StressLevel']\n"
          ]
        }
      ]
    },
    {
      "cell_type": "code",
      "source": [
        "X_reduced = X[top3]\n",
        "X_train_r, X_test_r, y_train_r, y_test_r = train_test_split(X_reduced, y, test_size=0.2, random_state=42)"
      ],
      "metadata": {
        "id": "ppbn3e7EMa9E"
      },
      "execution_count": 137,
      "outputs": []
    },
    {
      "cell_type": "code",
      "source": [
        "dt.fit(X_train_r, y_train_r)\n",
        "dt_acc_r = accuracy_score(y_test_r, dt.predict(X_test_r))\n",
        "print(f\"Decision Tree Accuracy (top 3 features): {dt_acc_r:.2f}\")"
      ],
      "metadata": {
        "colab": {
          "base_uri": "https://localhost:8080/"
        },
        "id": "Zk7jZbKFMeQo",
        "outputId": "ea6748f6-31d6-4a96-fc24-242d47c95173"
      },
      "execution_count": 138,
      "outputs": [
        {
          "output_type": "stream",
          "name": "stdout",
          "text": [
            "Decision Tree Accuracy (top 3 features): 0.54\n"
          ]
        }
      ]
    },
    {
      "cell_type": "code",
      "source": [
        "rf.fit(X_train_r, y_train_r)\n",
        "rf_acc_r = accuracy_score(y_test_r, rf.predict(X_test_r))\n",
        "print(f\"Random Forest Accuracy (top 3 features): {rf_acc_r:.2f}\")"
      ],
      "metadata": {
        "colab": {
          "base_uri": "https://localhost:8080/"
        },
        "id": "-Uss0F3QMopl",
        "outputId": "3e64d3f8-912d-4f29-c6ef-69bb0dcb79d8"
      },
      "execution_count": 139,
      "outputs": [
        {
          "output_type": "stream",
          "name": "stdout",
          "text": [
            "Random Forest Accuracy (top 3 features): 0.63\n"
          ]
        }
      ]
    },
    {
      "cell_type": "code",
      "source": [
        "knn.fit(X_train_r, y_train_r)\n",
        "knn_acc_r = accuracy_score(y_test_r, knn.predict(X_test_r))\n",
        "print(f\"k-NN Accuracy (top 3 features): {knn_acc_r:.2f}\")"
      ],
      "metadata": {
        "colab": {
          "base_uri": "https://localhost:8080/"
        },
        "id": "g2gs2KKlMqsN",
        "outputId": "a1aee776-79f3-46c7-b02d-d15fa3db1c58"
      },
      "execution_count": 140,
      "outputs": [
        {
          "output_type": "stream",
          "name": "stdout",
          "text": [
            "k-NN Accuracy (top 3 features): 0.58\n"
          ]
        }
      ]
    },
    {
      "cell_type": "code",
      "source": [],
      "metadata": {
        "id": "4kZiQtYnMuAe"
      },
      "execution_count": 140,
      "outputs": []
    }
  ]
}