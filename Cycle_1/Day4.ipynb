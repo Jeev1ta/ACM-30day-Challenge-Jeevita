{
  "nbformat": 4,
  "nbformat_minor": 0,
  "metadata": {
    "colab": {
      "provenance": []
    },
    "kernelspec": {
      "name": "python3",
      "display_name": "Python 3"
    },
    "language_info": {
      "name": "python"
    }
  },
  "cells": [
    {
      "cell_type": "code",
      "execution_count": 112,
      "metadata": {
        "id": "cz0fDSIDBI4-"
      },
      "outputs": [],
      "source": [
        "import pandas as pd"
      ]
    },
    {
      "cell_type": "code",
      "source": [
        "from sklearn.model_selection import train_test_split\n",
        "from sklearn.preprocessing import StandardScaler\n",
        "from sklearn.tree import DecisionTreeClassifier\n",
        "from sklearn.ensemble import RandomForestClassifier\n",
        "from sklearn.neighbors import KNeighborsClassifier\n",
        "from sklearn.metrics import accuracy_score"
      ],
      "metadata": {
        "id": "wMQh7A9JJjK0"
      },
      "execution_count": 113,
      "outputs": []
    },
    {
      "cell_type": "code",
      "source": [
        "df = pd.read_csv('/content/mental_health_workplace_survey.csv')"
      ],
      "metadata": {
        "id": "k4Mg0WHIJnqg"
      },
      "execution_count": 114,
      "outputs": []
    },
    {
      "cell_type": "code",
      "source": [
        "y = df['BurnoutRisk']\n",
        "X = df.drop(columns=['BurnoutRisk', 'BurnoutLevel'], errors='ignore')\n",
        "X = pd.get_dummies(X)"
      ],
      "metadata": {
        "id": "ShRh1vkZJzsd"
      },
      "execution_count": 115,
      "outputs": []
    },
    {
      "cell_type": "code",
      "source": [
        "scaler = StandardScaler()\n",
        "num_cols = X.select_dtypes(include=['int64', 'float64']).columns\n",
        "X[num_cols] = scaler.fit_transform(X[num_cols])"
      ],
      "metadata": {
        "id": "6XMQcH2NJ1n6"
      },
      "execution_count": 116,
      "outputs": []
    },
    {
      "cell_type": "code",
      "source": [
        "X_train, X_test, y_train, y_test = train_test_split(X, y, test_size=0.2, random_state=42)"
      ],
      "metadata": {
        "id": "PM4qrYJGJ4YG"
      },
      "execution_count": 117,
      "outputs": []
    },
    {
      "cell_type": "code",
      "source": [
        "dt = DecisionTreeClassifier(random_state=42)\n",
        "dt.fit(X_train, y_train)\n",
        "dt_acc = accuracy_score(y_test, dt.predict(X_test))\n",
        "print(f\"Decision Tree Accuracy (all features): {dt_acc:.2f}\")"
      ],
      "metadata": {
        "colab": {
          "base_uri": "https://localhost:8080/"
        },
        "id": "J_0PrsQQJ6vT",
        "outputId": "8146efac-be0e-48d0-e24c-6cc052eb5b15"
      },
      "execution_count": 118,
      "outputs": [
        {
          "output_type": "stream",
          "name": "stdout",
          "text": [
            "Decision Tree Accuracy (all features): 0.53\n"
          ]
        }
      ]
    },
    {
      "cell_type": "code",
      "source": [
        "rf = RandomForestClassifier(random_state=42)\n",
        "rf.fit(X_train, y_train)\n",
        "rf_acc = accuracy_score(y_test, rf.predict(X_test))\n",
        "print(f\"Random Forest Accuracy (all features): {rf_acc:.2f}\")"
      ],
      "metadata": {
        "colab": {
          "base_uri": "https://localhost:8080/"
        },
        "id": "wX-ExDA2KKvJ",
        "outputId": "7a8f85c3-6ce3-433b-e996-da77215a6e3c"
      },
      "execution_count": 107,
      "outputs": [
        {
          "output_type": "stream",
          "name": "stdout",
          "text": [
            "Random Forest Accuracy (all features): 0.67\n"
          ]
        }
      ]
    },
    {
      "cell_type": "code",
      "source": [
        "knn = KNeighborsClassifier()\n",
        "knn.fit(X_train, y_train)\n",
        "knn_acc = accuracy_score(y_test, knn.predict(X_test))\n",
        "print(f\"k-NN Accuracy (all features): {knn_acc:.2f}\")"
      ],
      "metadata": {
        "colab": {
          "base_uri": "https://localhost:8080/"
        },
        "id": "QGhYqKUMKeep",
        "outputId": "0974f25a-e998-4e8a-a2c8-28558f31e73a"
      },
      "execution_count": 119,
      "outputs": [
        {
          "output_type": "stream",
          "name": "stdout",
          "text": [
            "k-NN Accuracy (all features): 0.60\n",
            "k-NN Accuracy (all features): 0.60\n"
          ]
        }
      ]
    },
    {
      "cell_type": "code",
      "source": [
        "importances = rf.feature_importances_\n",
        "feature_series = pd.Series(importances, index=X.columns)\n",
        "top3 = feature_series.sort_values(ascending=False).head(3).index.tolist()\n",
        "print(\"Top 3 important features:\", top3)"
      ],
      "metadata": {
        "colab": {
          "base_uri": "https://localhost:8080/"
        },
        "id": "PQv5DP99MYVs",
        "outputId": "af360d8f-768d-4481-e37e-de46e20d285f"
      },
      "execution_count": 120,
      "outputs": [
        {
          "output_type": "stream",
          "name": "stdout",
          "text": [
            "Top 3 important features: ['ProductivityScore', 'ManagerSupportScore', 'StressLevel']\n",
            "Top 3 important features: ['ProductivityScore', 'ManagerSupportScore', 'StressLevel']\n"
          ]
        }
      ]
    },
    {
      "cell_type": "code",
      "source": [
        "X_reduced = X[top3]\n",
        "X_train_r, X_test_r, y_train_r, y_test_r = train_test_split(X_reduced, y, test_size=0.2, random_state=42)"
      ],
      "metadata": {
        "id": "ppbn3e7EMa9E"
      },
      "execution_count": 121,
      "outputs": []
    },
    {
      "cell_type": "code",
      "source": [
        "dt.fit(X_train_r, y_train_r)\n",
        "dt_acc_r = accuracy_score(y_test_r, dt.predict(X_test_r))\n",
        "print(f\"Decision Tree Accuracy (top 3 features): {dt_acc_r:.2f}\")"
      ],
      "metadata": {
        "colab": {
          "base_uri": "https://localhost:8080/"
        },
        "id": "Zk7jZbKFMeQo",
        "outputId": "5b76ba78-2cfa-4a95-8b1e-951ffddac002"
      },
      "execution_count": 122,
      "outputs": [
        {
          "output_type": "stream",
          "name": "stdout",
          "text": [
            "Decision Tree Accuracy (top 3 features): 0.54\n",
            "Decision Tree Accuracy (top 3 features): 0.54\n"
          ]
        }
      ]
    },
    {
      "cell_type": "code",
      "source": [
        "rf.fit(X_train_r, y_train_r)\n",
        "rf_acc_r = accuracy_score(y_test_r, rf.predict(X_test_r))\n",
        "print(f\"Random Forest Accuracy (top 3 features): {rf_acc_r:.2f}\")"
      ],
      "metadata": {
        "colab": {
          "base_uri": "https://localhost:8080/"
        },
        "id": "-Uss0F3QMopl",
        "outputId": "8223e617-3e33-4598-c3e2-1a7a96e9d5d9"
      },
      "execution_count": 123,
      "outputs": [
        {
          "output_type": "stream",
          "name": "stdout",
          "text": [
            "Random Forest Accuracy (top 3 features): 0.63\n"
          ]
        }
      ]
    },
    {
      "cell_type": "code",
      "source": [
        "knn.fit(X_train_r, y_train_r)\n",
        "knn_acc_r = accuracy_score(y_test_r, knn.predict(X_test_r))\n",
        "print(f\"k-NN Accuracy (top 3 features): {knn_acc_r:.2f}\")"
      ],
      "metadata": {
        "colab": {
          "base_uri": "https://localhost:8080/"
        },
        "id": "g2gs2KKlMqsN",
        "outputId": "4f5a9e5c-7c0b-4655-d856-7e25421804a3"
      },
      "execution_count": 124,
      "outputs": [
        {
          "output_type": "stream",
          "name": "stdout",
          "text": [
            "k-NN Accuracy (top 3 features): 0.58\n"
          ]
        }
      ]
    },
    {
      "cell_type": "code",
      "source": [],
      "metadata": {
        "id": "4kZiQtYnMuAe"
      },
      "execution_count": 124,
      "outputs": []
    }
  ]
}