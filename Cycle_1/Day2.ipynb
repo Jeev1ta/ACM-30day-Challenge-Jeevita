{
  "nbformat": 4,
  "nbformat_minor": 0,
  "metadata": {
    "colab": {
      "provenance": []
    },
    "kernelspec": {
      "name": "python3",
      "display_name": "Python 3"
    },
    "language_info": {
      "name": "python"
    }
  },
  "cells": [
    {
      "cell_type": "code",
      "execution_count": 101,
      "metadata": {
        "id": "yVfkNm3xiJux"
      },
      "outputs": [],
      "source": [
        "#importing required libraries\n",
        "import pandas as pd\n",
        "import numpy as np"
      ]
    },
    {
      "cell_type": "code",
      "source": [
        "from sklearn.preprocessing import OrdinalEncoder, StandardScaler\n",
        "from sklearn.model_selection import train_test_split\n",
        "from sklearn.linear_model import LinearRegression, Ridge, Lasso\n",
        "from sklearn.feature_selection import mutual_info_regression\n",
        "from sklearn.metrics import mean_squared_error, r2_score"
      ],
      "metadata": {
        "id": "UtT8CVhS5Iry"
      },
      "execution_count": 102,
      "outputs": []
    },
    {
      "cell_type": "code",
      "source": [
        "#loading the cleaned dataset\n",
        "df = pd.read_csv(\"/content/cleaned_mental_health_data.csv\")"
      ],
      "metadata": {
        "id": "NFznVOy65fSj"
      },
      "execution_count": 103,
      "outputs": []
    },
    {
      "cell_type": "code",
      "source": [
        "df.select_dtypes(include='object').columns"
      ],
      "metadata": {
        "colab": {
          "base_uri": "https://localhost:8080/"
        },
        "id": "5PE2e28h5-ug",
        "outputId": "766ff386-2fb3-4865-bbfc-a6967700d331"
      },
      "execution_count": 104,
      "outputs": [
        {
          "output_type": "execute_result",
          "data": {
            "text/plain": [
              "Index(['Gender', 'Country', 'JobRole', 'Department', 'RemoteWork',\n",
              "       'HasMentalHealthSupport', 'HasTherapyAccess', 'SalaryRange'],\n",
              "      dtype='object')"
            ]
          },
          "metadata": {},
          "execution_count": 104
        }
      ]
    },
    {
      "cell_type": "code",
      "source": [
        "ordinal_cols = ['JobRole', 'Department', 'HasMentalHealthSupport', 'HasTherapyAccess']\n",
        "df[ordinal_cols] = OrdinalEncoder().fit_transform(df[ordinal_cols])"
      ],
      "metadata": {
        "id": "2VUaUCf67-me"
      },
      "execution_count": 105,
      "outputs": []
    },
    {
      "cell_type": "code",
      "source": [
        "categorical = df.select_dtypes(include='object').columns\n",
        "nominal_cols = [col for col in categorical if col not in ordinal_cols]"
      ],
      "metadata": {
        "id": "emDWBivB8j-o"
      },
      "execution_count": 106,
      "outputs": []
    },
    {
      "cell_type": "code",
      "source": [
        "df = pd.get_dummies(df, columns=nominal_cols, drop_first=True)"
      ],
      "metadata": {
        "id": "TXSB1d6r8nOO"
      },
      "execution_count": 107,
      "outputs": []
    },
    {
      "cell_type": "code",
      "source": [
        "numeric_cols = df.select_dtypes(include=['int64', 'float64']).columns.drop('StressLevel')\n",
        "scaler = StandardScaler()\n",
        "df[numeric_cols] = scaler.fit_transform(df[numeric_cols])"
      ],
      "metadata": {
        "id": "ttj4O77z8pq2"
      },
      "execution_count": 108,
      "outputs": []
    },
    {
      "cell_type": "code",
      "source": [
        "df['Stress_WorkHours'] = df['StressLevel'] * df['WorkHoursPerWeek']\n",
        "df['Sleep_per_Stress'] = df['SleepHours'] / (df['StressLevel'] + 1e-5)"
      ],
      "metadata": {
        "id": "3kQXhrI58sN8"
      },
      "execution_count": 109,
      "outputs": []
    },
    {
      "cell_type": "code",
      "source": [
        "X = df.drop('StressLevel', axis=1)\n",
        "y = df['StressLevel']"
      ],
      "metadata": {
        "id": "fAw2acFN8uZY"
      },
      "execution_count": 110,
      "outputs": []
    },
    {
      "cell_type": "code",
      "source": [
        "mi = mutual_info_regression(X, y)\n",
        "mi_scores = pd.Series(mi, index=X.columns).sort_values(ascending=False)\n",
        "print(\"Top Features by Mutual Info:\")\n",
        "print(mi_scores)"
      ],
      "metadata": {
        "colab": {
          "base_uri": "https://localhost:8080/"
        },
        "id": "HtdOM3xF8xHc",
        "outputId": "3e6c3376-15eb-4e38-9130-e83296cde065"
      },
      "execution_count": 111,
      "outputs": [
        {
          "output_type": "stream",
          "name": "stdout",
          "text": [
            "Top Features by Mutual Info:\n",
            "Stress_WorkHours            0.636768\n",
            "Sleep_per_Stress            0.469165\n",
            "Country_India               0.011532\n",
            "Department                  0.011072\n",
            "SalaryRange_40K-60K         0.010636\n",
            "CareerGrowthScore           0.009509\n",
            "Country_Brazil              0.007968\n",
            "SleepHours                  0.007603\n",
            "ManagerSupportScore         0.007469\n",
            "Country_Germany             0.006821\n",
            "SalaryRange_<40K            0.005928\n",
            "YearsAtCompany              0.003372\n",
            "Country_UK                  0.002615\n",
            "RemoteWork_Yes              0.001926\n",
            "ProductivityScore           0.000196\n",
            "EmployeeID                  0.000000\n",
            "JobRole                     0.000000\n",
            "Age                         0.000000\n",
            "JobSatisfaction             0.000000\n",
            "BurnoutLevel                0.000000\n",
            "PhysicalActivityHrs         0.000000\n",
            "Gender_Male                 0.000000\n",
            "BurnoutRisk                 0.000000\n",
            "TeamSize                    0.000000\n",
            "WorkLifeBalanceScore        0.000000\n",
            "HasTherapyAccess            0.000000\n",
            "MentalHealthDaysOff         0.000000\n",
            "CommuteTime                 0.000000\n",
            "HasMentalHealthSupport      0.000000\n",
            "WorkHoursPerWeek            0.000000\n",
            "Gender_Non-binary           0.000000\n",
            "Gender_Prefer not to say    0.000000\n",
            "Country_Canada              0.000000\n",
            "Country_USA                 0.000000\n",
            "RemoteWork_No               0.000000\n",
            "SalaryRange_60K-80K         0.000000\n",
            "SalaryRange_80K-100K        0.000000\n",
            "dtype: float64\n"
          ]
        }
      ]
    },
    {
      "cell_type": "code",
      "source": [
        "X_train, X_test, y_train, y_test = train_test_split(X, y, test_size=0.2, random_state=42)"
      ],
      "metadata": {
        "id": "Os9mG6xG8zzK"
      },
      "execution_count": 112,
      "outputs": []
    },
    {
      "cell_type": "code",
      "source": [
        "# linear regression\n",
        "linear_model = LinearRegression()\n",
        "linear_model.fit(X_train, y_train)\n",
        "linear_preds = linear_model.predict(X_test)\n",
        "print(\"Linear Regression\")\n",
        "print(\"MSE:\", mean_squared_error(y_test, linear_preds))\n",
        "print(\"R² Score:\", r2_score(y_test, linear_preds))"
      ],
      "metadata": {
        "colab": {
          "base_uri": "https://localhost:8080/"
        },
        "id": "7KB4H2SR82tp",
        "outputId": "4457478b-d344-458f-97fc-b00d70277939"
      },
      "execution_count": 113,
      "outputs": [
        {
          "output_type": "stream",
          "name": "stdout",
          "text": [
            "Linear Regression\n",
            "MSE: 7.025201529395068\n",
            "R² Score: -0.0608217531473243\n"
          ]
        }
      ]
    },
    {
      "cell_type": "code",
      "source": [
        "# ridge regression\n",
        "ridge_model = Ridge(alpha=1.0)\n",
        "ridge_model.fit(X_train, y_train)\n",
        "ridge_preds = ridge_model.predict(X_test)\n",
        "print(\"Ridge Regression\")\n",
        "print(\"MSE:\", mean_squared_error(y_test, ridge_preds))\n",
        "print(\"R² Score:\", r2_score(y_test, ridge_preds))"
      ],
      "metadata": {
        "colab": {
          "base_uri": "https://localhost:8080/"
        },
        "id": "sQo6kNMm85Jz",
        "outputId": "9fb2d897-5a73-4913-d351-f5bc4cd3d16d"
      },
      "execution_count": 114,
      "outputs": [
        {
          "output_type": "stream",
          "name": "stdout",
          "text": [
            "Ridge Regression\n",
            "MSE: 7.024004012958613\n",
            "R² Score: -0.06064092538313459\n"
          ]
        }
      ]
    },
    {
      "cell_type": "code",
      "source": [
        "# lasso regression\n",
        "lasso_model = Lasso(alpha=0.1)\n",
        "lasso_model.fit(X_train, y_train)\n",
        "lasso_preds = lasso_model.predict(X_test)\n",
        "print(\"Lasso Regression\")\n",
        "print(\"MSE:\", mean_squared_error(y_test, lasso_preds))\n",
        "print(\"R² Score:\", r2_score(y_test, lasso_preds))"
      ],
      "metadata": {
        "colab": {
          "base_uri": "https://localhost:8080/"
        },
        "id": "1voph_3H89Lk",
        "outputId": "515595b0-9105-4faa-f8e4-db183ad6cc17"
      },
      "execution_count": 115,
      "outputs": [
        {
          "output_type": "stream",
          "name": "stdout",
          "text": [
            "Lasso Regression\n",
            "MSE: 6.650848452146319\n",
            "R² Score: -0.004293568718527041\n"
          ]
        }
      ]
    },
    {
      "cell_type": "code",
      "source": [],
      "metadata": {
        "id": "_0TiUg0G9SxO"
      },
      "execution_count": 115,
      "outputs": []
    }
  ]
}