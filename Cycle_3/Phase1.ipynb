{
  "nbformat": 4,
  "nbformat_minor": 0,
  "metadata": {
    "colab": {
      "provenance": []
    },
    "kernelspec": {
      "name": "python3",
      "display_name": "Python 3"
    },
    "language_info": {
      "name": "python"
    }
  },
  "cells": [
    {
      "cell_type": "code",
      "execution_count": 283,
      "metadata": {
        "id": "MI4hYlwNkcTj"
      },
      "outputs": [],
      "source": [
        "import pandas as pd\n",
        "import torch\n",
        "import torch.nn as nn\n",
        "from sklearn.model_selection import train_test_split\n",
        "from sklearn.preprocessing import StandardScaler\n",
        "from sklearn.metrics import accuracy_score, precision_score, recall_score, f1_score\n",
        "import matplotlib.pyplot as plt"
      ]
    },
    {
      "cell_type": "code",
      "source": [
        "books_df = pd.read_csv('/content/books.csv')"
      ],
      "metadata": {
        "id": "sKthhSCGo411"
      },
      "execution_count": 284,
      "outputs": []
    },
    {
      "cell_type": "code",
      "source": [
        "books_df = books_df[['average_rating', 'ratings_count', 'work_text_reviews_count']].dropna()"
      ],
      "metadata": {
        "id": "T-BRZAtHJ0lc"
      },
      "execution_count": 285,
      "outputs": []
    },
    {
      "cell_type": "code",
      "source": [
        "books_df['target'] = (books_df['average_rating'] >= 4).astype(int)"
      ],
      "metadata": {
        "id": "Ve8dqTKgpMTK"
      },
      "execution_count": 286,
      "outputs": []
    },
    {
      "cell_type": "code",
      "source": [
        "features = books_df[['average_rating', 'ratings_count', 'work_text_reviews_count']].values\n",
        "targets = books_df['target'].values"
      ],
      "metadata": {
        "id": "lTSZe3SyBoh9"
      },
      "execution_count": 287,
      "outputs": []
    },
    {
      "cell_type": "code",
      "source": [
        "scaler = StandardScaler()\n",
        "features = scaler.fit_transform(features)"
      ],
      "metadata": {
        "id": "PXSVbMxkGGG5"
      },
      "execution_count": 288,
      "outputs": []
    },
    {
      "cell_type": "code",
      "source": [
        "X_train, X_test, y_train, y_test = train_test_split(features, targets, test_size=0.2, random_state=42)"
      ],
      "metadata": {
        "id": "OIVOpJsoGJid"
      },
      "execution_count": 289,
      "outputs": []
    },
    {
      "cell_type": "code",
      "source": [
        "class BookDropoutNet(nn.Module):\n",
        "    def __init__(self):\n",
        "        super(BookDropoutNet, self).__init__()\n",
        "        self.layer1 = nn.Linear(3, 16)\n",
        "        self.activation = nn.ReLU()\n",
        "        self.output_layer = nn.Linear(16, 1)\n",
        "        self.output_activation = nn.Sigmoid()\n",
        "\n",
        "    def forward(self, x):\n",
        "        x = self.activation(self.layer1(x))\n",
        "        return self.output_activation(self.output_layer(x))"
      ],
      "metadata": {
        "id": "JKrVVbuDGNAa"
      },
      "execution_count": 290,
      "outputs": []
    },
    {
      "cell_type": "code",
      "source": [
        "model = BookDropoutNet()"
      ],
      "metadata": {
        "id": "TH16E6BZFifb"
      },
      "execution_count": 291,
      "outputs": []
    },
    {
      "cell_type": "code",
      "source": [
        "train_X = torch.tensor(X_train, dtype=torch.float32)\n",
        "train_y = torch.tensor(y_train.reshape(-1, 1), dtype=torch.float32)\n",
        "test_X = torch.tensor(X_test, dtype=torch.float32)\n",
        "test_y = torch.tensor(y_test.reshape(-1, 1), dtype=torch.float32)"
      ],
      "metadata": {
        "id": "FizR1KTaGUdG"
      },
      "execution_count": 292,
      "outputs": []
    },
    {
      "cell_type": "code",
      "source": [
        "criterion = nn.BCELoss()\n",
        "optimizer = torch.optim.Adam(model.parameters(), lr=0.01)"
      ],
      "metadata": {
        "id": "T8myWKMGGXsp"
      },
      "execution_count": 293,
      "outputs": []
    },
    {
      "cell_type": "code",
      "source": [
        "training_losses = []\n",
        "for epoch in range(20):\n",
        "    model.train()\n",
        "    predictions = model(train_X)\n",
        "    loss = criterion(predictions, train_y)\n",
        "\n",
        "    optimizer.zero_grad()\n",
        "    loss.backward()\n",
        "    optimizer.step()\n",
        "\n",
        "    training_losses.append(loss.item())\n",
        "    print(f\"Epoch {epoch+1}: Loss = {loss.item():.4f}\")"
      ],
      "metadata": {
        "colab": {
          "base_uri": "https://localhost:8080/"
        },
        "id": "K4ZpKle_GxE6",
        "outputId": "39200dcc-a12f-4014-b0b5-d5d333fe7989"
      },
      "execution_count": 294,
      "outputs": [
        {
          "output_type": "stream",
          "name": "stdout",
          "text": [
            "Epoch 1: Loss = 0.7021\n",
            "Epoch 2: Loss = 0.6842\n",
            "Epoch 3: Loss = 0.6674\n",
            "Epoch 4: Loss = 0.6516\n",
            "Epoch 5: Loss = 0.6366\n",
            "Epoch 6: Loss = 0.6221\n",
            "Epoch 7: Loss = 0.6080\n",
            "Epoch 8: Loss = 0.5942\n",
            "Epoch 9: Loss = 0.5805\n",
            "Epoch 10: Loss = 0.5669\n",
            "Epoch 11: Loss = 0.5534\n",
            "Epoch 12: Loss = 0.5400\n",
            "Epoch 13: Loss = 0.5267\n",
            "Epoch 14: Loss = 0.5135\n",
            "Epoch 15: Loss = 0.5003\n",
            "Epoch 16: Loss = 0.4872\n",
            "Epoch 17: Loss = 0.4741\n",
            "Epoch 18: Loss = 0.4611\n",
            "Epoch 19: Loss = 0.4482\n",
            "Epoch 20: Loss = 0.4353\n"
          ]
        }
      ]
    },
    {
      "cell_type": "code",
      "source": [
        "plt.plot(training_losses)\n",
        "plt.title(\"Model Training Loss\")\n",
        "plt.xlabel(\"Epoch\")\n",
        "plt.ylabel(\"Loss\")\n",
        "plt.grid(True)\n",
        "plt.show()"
      ],
      "metadata": {
        "colab": {
          "base_uri": "https://localhost:8080/",
          "height": 472
        },
        "id": "8A9bmavjGzhE",
        "outputId": "4b602c35-4d16-40e1-f93e-c0c9208a1918"
      },
      "execution_count": 295,
      "outputs": [
        {
          "output_type": "display_data",
          "data": {
            "text/plain": [
              "<Figure size 640x480 with 1 Axes>"
            ],
            "image/png": "[encoded data removed]"
          },
          "metadata": {}
        }
      ]
    },
    {
      "cell_type": "code",
      "source": [
        "model.eval()\n",
        "with torch.no_grad():\n",
        "    test_predictions = model(test_X)\n",
        "    predicted_classes = (test_predictions >= 0.5).float()"
      ],
      "metadata": {
        "id": "r0LjacLcHCJd"
      },
      "execution_count": 296,
      "outputs": []
    },
    {
      "cell_type": "code",
      "source": [
        "accuracy = accuracy_score(test_y, predicted_classes)\n",
        "precision = precision_score(test_y, predicted_classes)\n",
        "recall = recall_score(test_y, predicted_classes)\n",
        "f1 = f1_score(test_y, predicted_classes)"
      ],
      "metadata": {
        "id": "6H_jSEy-HS-h"
      },
      "execution_count": 297,
      "outputs": []
    },
    {
      "cell_type": "code",
      "source": [
        "print(\"Evaluation Results:\")\n",
        "print(f\"Accuracy:  {accuracy:.4f}\")\n",
        "print(f\"Precision: {precision:.4f}\")\n",
        "print(f\"Recall:    {recall:.4f}\")\n",
        "print(f\"F1 Score:  {f1:.4f}\")"
      ],
      "metadata": {
        "colab": {
          "base_uri": "https://localhost:8080/"
        },
        "id": "bkhAjjdQHYYS",
        "outputId": "14b73102-6c8b-4318-a0fc-5e8403833461"
      },
      "execution_count": 298,
      "outputs": [
        {
          "output_type": "stream",
          "name": "stdout",
          "text": [
            "Evaluation Results:\n",
            "Accuracy:  0.9475\n",
            "Precision: 0.9110\n",
            "Recall:    1.0000\n",
            "F1 Score:  0.9534\n"
          ]
        }
      ]
    },
    {
      "cell_type": "code",
      "source": [],
      "metadata": {
        "id": "2HuVkU4wJVyg"
      },
      "execution_count": 298,
      "outputs": []
    }
  ]
}